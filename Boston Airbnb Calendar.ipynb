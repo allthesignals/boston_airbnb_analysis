{
 "cells": [
  {
   "cell_type": "markdown",
   "metadata": {},
   "source": [
    "## Airbnb Boston/Inner Core Calendar Analysis"
   ]
  },
  {
   "cell_type": "markdown",
   "metadata": {},
   "source": [
    "For some reason the listings have duplicate room_id's. Looking at the timestamps, it appears the crawler pulled listings that overlapped in some paginated results. First, here are the variables on the dataset:"
   ]
  },
  {
   "cell_type": "code",
   "execution_count": 95,
   "metadata": {
    "collapsed": false
   },
   "outputs": [
    {
     "data": {
      "text/plain": [
       "Index(['room_id', 'host_id', 'room_type', 'country', 'city', 'neighborhood',\n",
       "       'address', 'reviews', 'overall_satisfaction', 'accommodates',\n",
       "       'bedrooms', 'bathrooms', 'price', 'deleted', 'minstay', 'timestamp',\n",
       "       'latitude', 'longitude', 'survey_i'],\n",
       "      dtype='object')"
      ]
     },
     "execution_count": 95,
     "metadata": {},
     "output_type": "execute_result"
    }
   ],
   "source": [
    "import pandas as pd\n",
    "import numpy as np\n",
    "%matplotlib inline\n",
    "boston_july_listings = pd.read_csv('boston_airbnb_listings_july_2015.csv', encoding = 'ISO-8859-1')\n",
    "boston_july_listings.columns"
   ]
  },
  {
   "cell_type": "markdown",
   "metadata": {},
   "source": [
    "Now let's get some basic statistics. Fist, let's see who's using the service the most. After removing duplicates, we aggregate count, mean, and sum on all variables, grouping by host_id. This will help us determine who the power users are:"
   ]
  },
  {
   "cell_type": "code",
   "execution_count": 91,
   "metadata": {
    "collapsed": false,
    "scrolled": true
   },
   "outputs": [
    {
     "data": {
      "text/html": [
       "<div>\n",
       "<table border=\"1\" class=\"dataframe\">\n",
       "  <thead>\n",
       "    <tr>\n",
       "      <th></th>\n",
       "      <th colspan=\"3\" halign=\"left\">room_id</th>\n",
       "      <th colspan=\"3\" halign=\"left\">reviews</th>\n",
       "      <th colspan=\"3\" halign=\"left\">price</th>\n",
       "    </tr>\n",
       "    <tr>\n",
       "      <th></th>\n",
       "      <th>count</th>\n",
       "      <th>mean</th>\n",
       "      <th>sum</th>\n",
       "      <th>count</th>\n",
       "      <th>mean</th>\n",
       "      <th>sum</th>\n",
       "      <th>count</th>\n",
       "      <th>mean</th>\n",
       "      <th>sum</th>\n",
       "    </tr>\n",
       "    <tr>\n",
       "      <th>host_id</th>\n",
       "      <th></th>\n",
       "      <th></th>\n",
       "      <th></th>\n",
       "      <th></th>\n",
       "      <th></th>\n",
       "      <th></th>\n",
       "      <th></th>\n",
       "      <th></th>\n",
       "      <th></th>\n",
       "    </tr>\n",
       "  </thead>\n",
       "  <tbody>\n",
       "    <tr>\n",
       "      <th>25188</th>\n",
       "      <td>104</td>\n",
       "      <td>917685.432692</td>\n",
       "      <td>95439285</td>\n",
       "      <td>104</td>\n",
       "      <td>4.394231</td>\n",
       "      <td>457</td>\n",
       "      <td>104</td>\n",
       "      <td>297.288462</td>\n",
       "      <td>30918</td>\n",
       "    </tr>\n",
       "    <tr>\n",
       "      <th>9419684</th>\n",
       "      <td>46</td>\n",
       "      <td>3914685.717391</td>\n",
       "      <td>180075543</td>\n",
       "      <td>46</td>\n",
       "      <td>3.195652</td>\n",
       "      <td>147</td>\n",
       "      <td>46</td>\n",
       "      <td>306.804348</td>\n",
       "      <td>14113</td>\n",
       "    </tr>\n",
       "    <tr>\n",
       "      <th>22348222</th>\n",
       "      <td>25</td>\n",
       "      <td>6129976.920000</td>\n",
       "      <td>153249423</td>\n",
       "      <td>25</td>\n",
       "      <td>0.240000</td>\n",
       "      <td>6</td>\n",
       "      <td>25</td>\n",
       "      <td>147.120000</td>\n",
       "      <td>3678</td>\n",
       "    </tr>\n",
       "    <tr>\n",
       "      <th>2356643</th>\n",
       "      <td>20</td>\n",
       "      <td>2720323.950000</td>\n",
       "      <td>54406479</td>\n",
       "      <td>20</td>\n",
       "      <td>7.300000</td>\n",
       "      <td>146</td>\n",
       "      <td>20</td>\n",
       "      <td>170.700000</td>\n",
       "      <td>3414</td>\n",
       "    </tr>\n",
       "    <tr>\n",
       "      <th>7000428</th>\n",
       "      <td>18</td>\n",
       "      <td>2844484.611111</td>\n",
       "      <td>51200723</td>\n",
       "      <td>18</td>\n",
       "      <td>17.888889</td>\n",
       "      <td>322</td>\n",
       "      <td>18</td>\n",
       "      <td>123.055556</td>\n",
       "      <td>2215</td>\n",
       "    </tr>\n",
       "    <tr>\n",
       "      <th>23880410</th>\n",
       "      <td>18</td>\n",
       "      <td>4803426.722222</td>\n",
       "      <td>86461681</td>\n",
       "      <td>18</td>\n",
       "      <td>20.222222</td>\n",
       "      <td>364</td>\n",
       "      <td>18</td>\n",
       "      <td>147.611111</td>\n",
       "      <td>2657</td>\n",
       "    </tr>\n",
       "    <tr>\n",
       "      <th>30283594</th>\n",
       "      <td>17</td>\n",
       "      <td>6436887.352941</td>\n",
       "      <td>109427085</td>\n",
       "      <td>17</td>\n",
       "      <td>0.352941</td>\n",
       "      <td>6</td>\n",
       "      <td>17</td>\n",
       "      <td>540.529412</td>\n",
       "      <td>9189</td>\n",
       "    </tr>\n",
       "    <tr>\n",
       "      <th>6331373</th>\n",
       "      <td>16</td>\n",
       "      <td>3856307.312500</td>\n",
       "      <td>61700917</td>\n",
       "      <td>16</td>\n",
       "      <td>23.687500</td>\n",
       "      <td>379</td>\n",
       "      <td>16</td>\n",
       "      <td>74.687500</td>\n",
       "      <td>1195</td>\n",
       "    </tr>\n",
       "    <tr>\n",
       "      <th>1461240</th>\n",
       "      <td>16</td>\n",
       "      <td>2585077.687500</td>\n",
       "      <td>41361243</td>\n",
       "      <td>16</td>\n",
       "      <td>16.000000</td>\n",
       "      <td>256</td>\n",
       "      <td>16</td>\n",
       "      <td>193.812500</td>\n",
       "      <td>3101</td>\n",
       "    </tr>\n",
       "    <tr>\n",
       "      <th>1444340</th>\n",
       "      <td>15</td>\n",
       "      <td>2912962.333333</td>\n",
       "      <td>43694435</td>\n",
       "      <td>15</td>\n",
       "      <td>20.266667</td>\n",
       "      <td>304</td>\n",
       "      <td>15</td>\n",
       "      <td>204.866667</td>\n",
       "      <td>3073</td>\n",
       "    </tr>\n",
       "  </tbody>\n",
       "</table>\n",
       "</div>"
      ],
      "text/plain": [
       "         room_id                            reviews                 price  \\\n",
       "           count            mean        sum   count       mean  sum count   \n",
       "host_id                                                                     \n",
       "25188        104   917685.432692   95439285     104   4.394231  457   104   \n",
       "9419684       46  3914685.717391  180075543      46   3.195652  147    46   \n",
       "22348222      25  6129976.920000  153249423      25   0.240000    6    25   \n",
       "2356643       20  2720323.950000   54406479      20   7.300000  146    20   \n",
       "7000428       18  2844484.611111   51200723      18  17.888889  322    18   \n",
       "23880410      18  4803426.722222   86461681      18  20.222222  364    18   \n",
       "30283594      17  6436887.352941  109427085      17   0.352941    6    17   \n",
       "6331373       16  3856307.312500   61700917      16  23.687500  379    16   \n",
       "1461240       16  2585077.687500   41361243      16  16.000000  256    16   \n",
       "1444340       15  2912962.333333   43694435      15  20.266667  304    15   \n",
       "\n",
       "                             \n",
       "                mean    sum  \n",
       "host_id                      \n",
       "25188     297.288462  30918  \n",
       "9419684   306.804348  14113  \n",
       "22348222  147.120000   3678  \n",
       "2356643   170.700000   3414  \n",
       "7000428   123.055556   2215  \n",
       "23880410  147.611111   2657  \n",
       "30283594  540.529412   9189  \n",
       "6331373    74.687500   1195  \n",
       "1461240   193.812500   3101  \n",
       "1444340   204.866667   3073  "
      ]
     },
     "execution_count": 91,
     "metadata": {},
     "output_type": "execute_result"
    }
   ],
   "source": [
    "boston_july_listings = boston_july_listings.drop_duplicates(\"room_id\")\n",
    "agg_multi = boston_july_listings[['room_id', 'host_id', 'room_type', 'reviews', 'overall_satisfaction', 'accommodates','bedrooms', 'bathrooms', 'price', 'minstay']]\n",
    "agg_multi = agg_multi.groupby(\"host_id\").agg(['count','mean','sum']).sort([('room_id',\n",
    "    'count')], ascending=False)\n",
    "agg_multi[[\"room_id\",\"reviews\",\"price\"]].iloc[0:10]"
   ]
  },
  {
   "cell_type": "markdown",
   "metadata": {},
   "source": [
    "We can see the top ten \"power users\" in Boston, or those who list multiple times. Now let's get a count of how many users list two or more separate units/rooms:"
   ]
  },
  {
   "cell_type": "code",
   "execution_count": 92,
   "metadata": {
    "collapsed": false
   },
   "outputs": [
    {
     "data": {
      "text/plain": [
       "19.219547775346463"
      ]
     },
     "execution_count": 92,
     "metadata": {},
     "output_type": "execute_result"
    }
   ],
   "source": [
    "np.divide(agg_multi[agg_multi[\"room_id\"][\"count\"] > 1][\"room_id\"][\"count\"].count(), agg_multi[\"room_id\"][\"count\"].count()) * 100"
   ]
  },
  {
   "cell_type": "markdown",
   "metadata": {},
   "source": [
    "Almost 20% of users might be \"power\" users, with as many as over 100 listings under an account. \n",
    "\n",
    "Now let's take a look at listing types:"
   ]
  },
  {
   "cell_type": "code",
   "execution_count": 101,
   "metadata": {
    "collapsed": false
   },
   "outputs": [
    {
     "data": {
      "text/plain": [
       "<matplotlib.axes._subplots.AxesSubplot at 0x104809a90>"
      ]
     },
     "execution_count": 101,
     "metadata": {},
     "output_type": "execute_result"
    },
    {
     "data": {
      "image/png": "[encoded data removed]",
      "text/plain": [
       "<matplotlib.figure.Figure at 0x1048041d0>"
      ]
     },
     "metadata": {},
     "output_type": "display_data"
    }
   ],
   "source": [
    "boston_july_listings.groupby('room_type').agg(['count'])[\"room_id\"].apply(lambda x: 100*x/float(x.sum())).plot(kind=\"bar\")"
   ]
  },
  {
   "cell_type": "markdown",
   "metadata": {},
   "source": [
    "Wow! Nearly 40% of listings list the entire unit. I wonder if this has any relationship with our power users?"
   ]
  },
  {
   "cell_type": "code",
   "execution_count": 110,
   "metadata": {
    "collapsed": false
   },
   "outputs": [
    {
     "data": {
      "text/plain": [
       "47.133048803117461"
      ]
     },
     "execution_count": 110,
     "metadata": {},
     "output_type": "execute_result"
    }
   ],
   "source": [
    "power_users = boston_july_listings[boston_july_listings[\"host_id\"].isin(agg_multi[agg_multi[\"room_id\"][\"count\"]> 1].index)]\n",
    "np.divide(power_users.count()['room_id'], boston_july_listings.count()['room_id']) * 100"
   ]
  },
  {
   "cell_type": "markdown",
   "metadata": {},
   "source": [
    "Almost half of listings are listed by \"power users,\" or users who list more than one unit/room on the service. Let's see the room type distribution:"
   ]
  },
  {
   "cell_type": "code",
   "execution_count": 111,
   "metadata": {
    "collapsed": false
   },
   "outputs": [
    {
     "data": {
      "text/plain": [
       "<matplotlib.axes._subplots.AxesSubplot at 0x104893c50>"
      ]
     },
     "execution_count": 111,
     "metadata": {},
     "output_type": "execute_result"
    },
    {
     "data": {
      "image/png": "[encoded data removed]",
      "text/plain": [
       "<matplotlib.figure.Figure at 0x104c0f780>"
      ]
     },
     "metadata": {},
     "output_type": "display_data"
    }
   ],
   "source": [
    "power_users.groupby('room_type').agg(['count'])[\"room_id\"].apply(lambda x: 100*x/float(x.sum())).plot(kind=\"bar\")"
   ]
  },
  {
   "cell_type": "markdown",
   "metadata": {},
   "source": [
    "Interesting. Slightly fewer Power Users listings are for the entire unit - quite a lot more private rooms available. Either this is due to multiple listings for the same room, or a lot of power users are choosing to double up in their unit at certain times during the year."
   ]
  },
  {
   "cell_type": "markdown",
   "metadata": {},
   "source": [
    "## Policy Implications"
   ]
  },
  {
   "cell_type": "markdown",
   "metadata": {},
   "source": [
    "Often the chief concern among the Airbnb policy debate surrounds the number of full rental units that are taken off the regular rental market and used exclusively for Airbnb. However, this data suggests a scenario in which certain users who might otherwise rent regularly instead use the Airbnb service"
   ]
  }
 ],
 "metadata": {
  "kernelspec": {
   "display_name": "Python 3",
   "language": "python",
   "name": "python3"
  },
  "language_info": {
   "codemirror_mode": {
    "name": "ipython",
    "version": 3
   },
   "file_extension": ".py",
   "mimetype": "text/x-python",
   "name": "python",
   "nbconvert_exporter": "python",
   "pygments_lexer": "ipython3",
   "version": "3.4.3"
  }
 },
 "nbformat": 4,
 "nbformat_minor": 0
}
